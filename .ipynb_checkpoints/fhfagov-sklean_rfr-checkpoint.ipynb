{
 "cells": [
  {
   "cell_type": "code",
   "execution_count": 3,
   "id": "ff4e4e81",
   "metadata": {},
   "outputs": [],
   "source": [
    "import pandas as pd\n",
    "from sklearn.ensemble import RandomForestRegressor\n",
    "from sklearn.model_selection import train_test_split"
   ]
  },
  {
   "cell_type": "code",
   "execution_count": 5,
   "id": "b4c15aa9",
   "metadata": {},
   "outputs": [],
   "source": [
    "# Load the data\n",
    "df = pd.read_csv('./resources/fhfagov-2021.csv')"
   ]
  },
  {
   "cell_type": "code",
   "execution_count": 6,
   "id": "57f87ce2",
   "metadata": {},
   "outputs": [
    {
     "data": {
      "text/html": [
       "<div>\n",
       "<style scoped>\n",
       "    .dataframe tbody tr th:only-of-type {\n",
       "        vertical-align: middle;\n",
       "    }\n",
       "\n",
       "    .dataframe tbody tr th {\n",
       "        vertical-align: top;\n",
       "    }\n",
       "\n",
       "    .dataframe thead th {\n",
       "        text-align: right;\n",
       "    }\n",
       "</style>\n",
       "<table border=\"1\" class=\"dataframe\">\n",
       "  <thead>\n",
       "    <tr style=\"text-align: right;\">\n",
       "      <th></th>\n",
       "      <th>Year</th>\n",
       "      <th>LoanCharacteristicsID</th>\n",
       "      <th>Bank</th>\n",
       "      <th>FIPSStateNumericCode</th>\n",
       "      <th>FIPSCountyCode</th>\n",
       "      <th>CoreBasedStatisticalAreaCode</th>\n",
       "      <th>CensusTractIdentifier</th>\n",
       "      <th>CensusTractMinorityRatioPercent</th>\n",
       "      <th>CensusTractMedFamIncomeAmount</th>\n",
       "      <th>LocalAreaMedianIncomeAmount</th>\n",
       "      <th>...</th>\n",
       "      <th>Borrower1Race3Type</th>\n",
       "      <th>Borrower1Race4Type</th>\n",
       "      <th>Borrower1Race5Type</th>\n",
       "      <th>Borrower2EthnicityType</th>\n",
       "      <th>Borrower2Race2Type</th>\n",
       "      <th>Borrower2Race3Type</th>\n",
       "      <th>Borrower2Race4Type</th>\n",
       "      <th>Borrower2Race5Type</th>\n",
       "      <th>HOEPALoanStatusType</th>\n",
       "      <th>LienPriorityType</th>\n",
       "    </tr>\n",
       "  </thead>\n",
       "  <tbody>\n",
       "    <tr>\n",
       "      <th>0</th>\n",
       "      <td>2021</td>\n",
       "      <td>2585135</td>\n",
       "      <td>Boston</td>\n",
       "      <td>23</td>\n",
       "      <td>5</td>\n",
       "      <td>38860</td>\n",
       "      <td>45.02</td>\n",
       "      <td>6.379</td>\n",
       "      <td>91316</td>\n",
       "      <td>85144</td>\n",
       "      <td>...</td>\n",
       "      <td>7</td>\n",
       "      <td>7</td>\n",
       "      <td>7</td>\n",
       "      <td>3</td>\n",
       "      <td>7</td>\n",
       "      <td>7</td>\n",
       "      <td>7</td>\n",
       "      <td>7</td>\n",
       "      <td>2</td>\n",
       "      <td>1</td>\n",
       "    </tr>\n",
       "    <tr>\n",
       "      <th>1</th>\n",
       "      <td>2021</td>\n",
       "      <td>2585136</td>\n",
       "      <td>Boston</td>\n",
       "      <td>23</td>\n",
       "      <td>5</td>\n",
       "      <td>38860</td>\n",
       "      <td>41.00</td>\n",
       "      <td>3.553</td>\n",
       "      <td>100396</td>\n",
       "      <td>85144</td>\n",
       "      <td>...</td>\n",
       "      <td>7</td>\n",
       "      <td>7</td>\n",
       "      <td>7</td>\n",
       "      <td>5</td>\n",
       "      <td>8</td>\n",
       "      <td>8</td>\n",
       "      <td>8</td>\n",
       "      <td>8</td>\n",
       "      <td>2</td>\n",
       "      <td>1</td>\n",
       "    </tr>\n",
       "    <tr>\n",
       "      <th>2</th>\n",
       "      <td>2021</td>\n",
       "      <td>2585137</td>\n",
       "      <td>Boston</td>\n",
       "      <td>25</td>\n",
       "      <td>27</td>\n",
       "      <td>49340</td>\n",
       "      <td>7011.00</td>\n",
       "      <td>8.537</td>\n",
       "      <td>87500</td>\n",
       "      <td>91102</td>\n",
       "      <td>...</td>\n",
       "      <td>7</td>\n",
       "      <td>7</td>\n",
       "      <td>7</td>\n",
       "      <td>5</td>\n",
       "      <td>8</td>\n",
       "      <td>8</td>\n",
       "      <td>8</td>\n",
       "      <td>8</td>\n",
       "      <td>2</td>\n",
       "      <td>1</td>\n",
       "    </tr>\n",
       "    <tr>\n",
       "      <th>3</th>\n",
       "      <td>2021</td>\n",
       "      <td>2585138</td>\n",
       "      <td>Boston</td>\n",
       "      <td>25</td>\n",
       "      <td>27</td>\n",
       "      <td>49340</td>\n",
       "      <td>7001.00</td>\n",
       "      <td>6.052</td>\n",
       "      <td>114531</td>\n",
       "      <td>91102</td>\n",
       "      <td>...</td>\n",
       "      <td>7</td>\n",
       "      <td>7</td>\n",
       "      <td>7</td>\n",
       "      <td>2</td>\n",
       "      <td>7</td>\n",
       "      <td>7</td>\n",
       "      <td>7</td>\n",
       "      <td>7</td>\n",
       "      <td>2</td>\n",
       "      <td>1</td>\n",
       "    </tr>\n",
       "    <tr>\n",
       "      <th>4</th>\n",
       "      <td>2021</td>\n",
       "      <td>2585139</td>\n",
       "      <td>Boston</td>\n",
       "      <td>25</td>\n",
       "      <td>27</td>\n",
       "      <td>49340</td>\n",
       "      <td>7061.00</td>\n",
       "      <td>3.583</td>\n",
       "      <td>119423</td>\n",
       "      <td>91102</td>\n",
       "      <td>...</td>\n",
       "      <td>7</td>\n",
       "      <td>7</td>\n",
       "      <td>7</td>\n",
       "      <td>5</td>\n",
       "      <td>8</td>\n",
       "      <td>8</td>\n",
       "      <td>8</td>\n",
       "      <td>8</td>\n",
       "      <td>2</td>\n",
       "      <td>1</td>\n",
       "    </tr>\n",
       "  </tbody>\n",
       "</table>\n",
       "<p>5 rows × 56 columns</p>\n",
       "</div>"
      ],
      "text/plain": [
       "   Year  LoanCharacteristicsID    Bank  FIPSStateNumericCode  FIPSCountyCode  \\\n",
       "0  2021                2585135  Boston                    23               5   \n",
       "1  2021                2585136  Boston                    23               5   \n",
       "2  2021                2585137  Boston                    25              27   \n",
       "3  2021                2585138  Boston                    25              27   \n",
       "4  2021                2585139  Boston                    25              27   \n",
       "\n",
       "   CoreBasedStatisticalAreaCode  CensusTractIdentifier  \\\n",
       "0                         38860                  45.02   \n",
       "1                         38860                  41.00   \n",
       "2                         49340                7011.00   \n",
       "3                         49340                7001.00   \n",
       "4                         49340                7061.00   \n",
       "\n",
       "   CensusTractMinorityRatioPercent  CensusTractMedFamIncomeAmount  \\\n",
       "0                            6.379                          91316   \n",
       "1                            3.553                         100396   \n",
       "2                            8.537                          87500   \n",
       "3                            6.052                         114531   \n",
       "4                            3.583                         119423   \n",
       "\n",
       "   LocalAreaMedianIncomeAmount  ...  Borrower1Race3Type  Borrower1Race4Type  \\\n",
       "0                        85144  ...                   7                   7   \n",
       "1                        85144  ...                   7                   7   \n",
       "2                        91102  ...                   7                   7   \n",
       "3                        91102  ...                   7                   7   \n",
       "4                        91102  ...                   7                   7   \n",
       "\n",
       "   Borrower1Race5Type  Borrower2EthnicityType  Borrower2Race2Type  \\\n",
       "0                   7                       3                   7   \n",
       "1                   7                       5                   8   \n",
       "2                   7                       5                   8   \n",
       "3                   7                       2                   7   \n",
       "4                   7                       5                   8   \n",
       "\n",
       "   Borrower2Race3Type  Borrower2Race4Type  Borrower2Race5Type  \\\n",
       "0                   7                   7                   7   \n",
       "1                   8                   8                   8   \n",
       "2                   8                   8                   8   \n",
       "3                   7                   7                   7   \n",
       "4                   8                   8                   8   \n",
       "\n",
       "   HOEPALoanStatusType  LienPriorityType  \n",
       "0                    2                 1  \n",
       "1                    2                 1  \n",
       "2                    2                 1  \n",
       "3                    2                 1  \n",
       "4                    2                 1  \n",
       "\n",
       "[5 rows x 56 columns]"
      ]
     },
     "execution_count": 6,
     "metadata": {},
     "output_type": "execute_result"
    }
   ],
   "source": [
    "df.head()"
   ]
  },
  {
   "cell_type": "code",
   "execution_count": 7,
   "id": "ee9dfd8c",
   "metadata": {},
   "outputs": [],
   "source": [
    "# Define the input and output variables\n",
    "ind_vars = ['FIPSStateNumericCode', 'FIPSCountyCode', 'CoreBasedStatisticalAreaCode', 'CensusTractIdentifier']\n",
    "target_var = 'NoteAmount'"
   ]
  },
  {
   "cell_type": "code",
   "execution_count": 8,
   "id": "48254d01",
   "metadata": {},
   "outputs": [],
   "source": [
    "# Split the data into training and test sets\n",
    "train_data, test_data = train_test_split(df, test_size=0.2, random_state=42)"
   ]
  },
  {
   "cell_type": "code",
   "execution_count": 16,
   "id": "7e8ce75f",
   "metadata": {},
   "outputs": [],
   "source": [
    "# Create a Random Forest Regressor\n",
    "model = RandomForestRegressor(n_estimators=300, max_depth=30, min_samples_split=15, random_state=42)"
   ]
  },
  {
   "cell_type": "code",
   "execution_count": 17,
   "id": "4ac159df",
   "metadata": {},
   "outputs": [
    {
     "data": {
      "text/plain": [
       "RandomForestRegressor(max_depth=20, min_samples_split=15, n_estimators=500,\n",
       "                      random_state=42)"
      ]
     },
     "execution_count": 17,
     "metadata": {},
     "output_type": "execute_result"
    }
   ],
   "source": [
    "# Fit the model to the training data\n",
    "model.fit(train_data[ind_vars], train_data[target_var])"
   ]
  },
  {
   "cell_type": "code",
   "execution_count": 18,
   "id": "d1e293c6",
   "metadata": {},
   "outputs": [],
   "source": [
    "# Make predictions on the test data\n",
    "test_data['predictions'] = model.predict(test_data[ind_vars])"
   ]
  },
  {
   "cell_type": "code",
   "execution_count": 19,
   "id": "a5e648a6",
   "metadata": {},
   "outputs": [],
   "source": [
    "# Calculate the mean absolute error\n",
    "mae = (test_data[target_var] - test_data['predictions']).abs().mean()"
   ]
  },
  {
   "cell_type": "code",
   "execution_count": 20,
   "id": "ad9b9f81",
   "metadata": {},
   "outputs": [
    {
     "name": "stdout",
     "output_type": "stream",
     "text": [
      "Mean Absolute Error: 77396.07\n"
     ]
    }
   ],
   "source": [
    "print(f\"Mean Absolute Error: {mae:.2f}\")"
   ]
  },
  {
   "cell_type": "code",
   "execution_count": null,
   "id": "9375ff8d",
   "metadata": {},
   "outputs": [],
   "source": [
    "# What does the above output Mean Absolute Error: 77265.48 actually mean? It means the \n",
    "# predictions made by the Random Forest Regressor are off by about $77,265.48 in terms \n",
    "# of our csv column 'NoteAmount'. So if the actual value of a house in the test data is \n",
    "# $200,000, the model might predict that the house is worth around $277,265."
   ]
  }
 ],
 "metadata": {
  "kernelspec": {
   "display_name": "Python 3 (ipykernel)",
   "language": "python",
   "name": "python3"
  },
  "language_info": {
   "codemirror_mode": {
    "name": "ipython",
    "version": 3
   },
   "file_extension": ".py",
   "mimetype": "text/x-python",
   "name": "python",
   "nbconvert_exporter": "python",
   "pygments_lexer": "ipython3",
   "version": "3.9.13"
  }
 },
 "nbformat": 4,
 "nbformat_minor": 5
}
