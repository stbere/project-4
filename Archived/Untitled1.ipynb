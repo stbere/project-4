{
 "cells": [
  {
   "cell_type": "code",
   "execution_count": 14,
   "id": "84bcfda7",
   "metadata": {},
   "outputs": [],
   "source": [
    "import pandas as pd\n",
    "import requests\n",
    "from io import StringIO\n",
    "from sklearn.model_selection import train_test_split\n",
    "from sklearn.linear_model import LinearRegression"
   ]
  },
  {
   "cell_type": "code",
   "execution_count": 15,
   "id": "24e083bf",
   "metadata": {},
   "outputs": [
    {
     "name": "stdout",
     "output_type": "stream",
     "text": [
      "   ï»¿RegionID  SizeRank     RegionName RegionType StateName State  \\\n",
      "0        33225        37  Oklahoma City       city        OK    OK   \n",
      "1        20859        50          Tulsa       city        OK    OK   \n",
      "2        38328       198         Edmond       city        OK    OK   \n",
      "3        33136       311         Norman       city        OK    OK   \n",
      "4        37596       319   Broken Arrow       city        OK    OK   \n",
      "\n",
      "               Metro        CountyName     1/31/2000     2/29/2000  ...  \\\n",
      "0  Oklahoma City, OK   Oklahoma County   69026.11167   69186.14422  ...   \n",
      "1          Tulsa, OK      Tulsa County   75173.10114   74895.19799  ...   \n",
      "2  Oklahoma City, OK   Oklahoma County  144588.15160  144877.13260  ...   \n",
      "3  Oklahoma City, OK  Cleveland County   94679.47187   94810.55926  ...   \n",
      "4          Tulsa, OK    Wagoner County  119608.60330  119273.43180  ...   \n",
      "\n",
      "     5/31/2022    6/30/2022    7/31/2022    8/31/2022    9/30/2022  \\\n",
      "0  183193.2871  185378.5342  186971.5934  187902.3511  188370.5157   \n",
      "1  173162.1185  175038.8721  176847.6637  177963.3019  178553.3453   \n",
      "2  315618.0770  319728.5364  322523.0409  323864.2089  324023.1549   \n",
      "3  223630.3281  226739.9095  229058.5214  230524.3106  231268.8880   \n",
      "4  243725.7268  246873.2242  249450.6218  250904.2633  251292.1894   \n",
      "\n",
      "    10/31/2022   11/30/2022   12/31/2022    1/31/2023    2/28/2023  \n",
      "0  189000.1066  190144.2743  191148.6627  191540.7703  191370.3813  \n",
      "1  179207.4421  180206.1911  180686.2336  181426.9355  182100.7298  \n",
      "2  324240.4741  324958.5410  325387.6874  324945.6621  324767.4233  \n",
      "3  232104.8439  233161.4022  233924.3868  233966.9978  234228.2214  \n",
      "4  251634.9022  252216.2665  252626.8944  252856.4406  253154.8957  \n",
      "\n",
      "[5 rows x 286 columns]\n"
     ]
    }
   ],
   "source": [
    "url = \"https://drive.google.com/file/d/1TIao4rVaFo6LdY2G2nSQC4g9YfAlr9nX/view?usp=sharing\"\n",
    "file_id = url.split('/')[-2]\n",
    "dwn_url='https://drive.google.com/uc?export=download&id=' + file_id\n",
    "url2 = requests.get(dwn_url).text\n",
    "csv_raw = StringIO(url2)\n",
    "df = pd.read_csv(csv_raw)\n",
    "print(df.head())"
   ]
  },
  {
   "cell_type": "code",
   "execution_count": null,
   "id": "81ef04f8",
   "metadata": {},
   "outputs": [],
   "source": []
  }
 ],
 "metadata": {
  "kernelspec": {
   "display_name": "Python 3 (ipykernel)",
   "language": "python",
   "name": "python3"
  },
  "language_info": {
   "codemirror_mode": {
    "name": "ipython",
    "version": 3
   },
   "file_extension": ".py",
   "mimetype": "text/x-python",
   "name": "python",
   "nbconvert_exporter": "python",
   "pygments_lexer": "ipython3",
   "version": "3.9.13"
  }
 },
 "nbformat": 4,
 "nbformat_minor": 5
}
